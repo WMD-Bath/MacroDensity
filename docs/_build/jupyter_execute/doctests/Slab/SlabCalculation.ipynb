{
 "cells": [
  {
   "cell_type": "markdown",
   "metadata": {},
   "source": [
    "# Ionisation potential of a bulk material\n",
    "\n",
    "In this example we use `MacroDensity` with `VASP` to align the energy levels of a simple bulk material.\n",
    "\n",
    "The procedure involves two DFT calculations, yielding different important values\n",
    "\n",
    "* **A bulk calculation**, this provides us with the VBM eigenvalue under the assumption of zero potential ($\\epsilon_{vbm}$)\n",
    "* **A slab calculation**, this provides us with the vacuum level with resepct to the potential inside the material, the difference between these values is the surface dipole ($D_s$).\n",
    "\n",
    "The ionisation potential ($IP$) is then obtained from:\n",
    "\n",
    "$IP = D_s - \\epsilon_{vbm}$"
   ]
  },
  {
   "cell_type": "code",
   "execution_count": 6,
   "metadata": {},
   "outputs": [],
   "source": [
    "%matplotlib inline\n",
    "import sys\n",
    "import macrodensity as md\n",
    "import math\n",
    "import numpy as np\n",
    "import matplotlib.pyplot as plt\n",
    "import matplotlib as mpl\n",
    "import os"
   ]
  },
  {
   "cell_type": "markdown",
   "metadata": {},
   "source": [
    "## Bulk calculation\n",
    "\n",
    "In this calculation we calculate the eigenvalues of the bulk material, under the assumption of zero average potential.\n",
    "\n",
    "You find the eigenvalues printed after the line \"band No.  band energies     occupation\" in the `OUTCAR`\n",
    "\n",
    "I have written a small script to do this witin MacroDensity - `vasp_tools.get_band_extrema`\n",
    "    \n",
    "Let's try it out on the OUTCAR_bulk file in this directory"
   ]
  },
  {
   "cell_type": "code",
   "execution_count": 3,
   "metadata": {},
   "outputs": [
    {
     "name": "stdout",
     "output_type": "stream",
     "text": [
      "[1.9483, 3.657]\n"
     ]
    }
   ],
   "source": [
    "extrema = md.get_band_extrema('OUTCAR_MoO3_bulk')\n",
    "print(extrema)"
   ]
  },
  {
   "cell_type": "markdown",
   "metadata": {},
   "source": [
    "## Slab calculation\n",
    "\n",
    "Now we do a calculation of the slab to get the potential profile. Important settings for the `INCAR` file:\n",
    "\n",
    "    LVHAR = .TRUE.  # This generates a LOCPOT file with the potential \n",
    "    \n",
    "In your example directory there should already be a `LOCPOT_MoO3.vasp` file. This is the one we will use to analyse the potential and extract the vacuum level and the surface dipole.\n",
    "\n",
    "In the sample `PlanarAverage.py` file, all we have to edit are the top three lines. Of these the only one that is not obvious is the `lattice_vector` parameter. This is just the periodicity of the slab in the direction normal to the surface. In the picture below, this is just the distance between the layers of SnO$_2$.\n",
    "\n",
    "<img src=\"MoO3.png\">"
   ]
  },
  {
   "cell_type": "code",
   "execution_count": 7,
   "metadata": {},
   "outputs": [],
   "source": [
    "if os.path.isfile('LOCPOT.MoO3.vasp'):\n",
    "    print('LOCPOT already exists')\n",
    "else:\n",
    "    os.system('bunzip2 LOCPOT.MoO3.vasp.bz2')\n",
    "    \n",
    "input_file = 'LOCPOT_MoO3.vasp'\n",
    "lattice_vector = 7.43\n",
    "output_file = 'planar.dat'"
   ]
  },
  {
   "cell_type": "markdown",
   "metadata": {},
   "source": [
    "### The code below is set in the PlanarAverage.py file; you don't need to edit it"
   ]
  },
  {
   "cell_type": "code",
   "execution_count": 8,
   "metadata": {},
   "outputs": [
    {
     "name": "stdout",
     "output_type": "stream",
     "text": [
      "Reading header information...\n"
     ]
    },
    {
     "ename": "FileNotFoundError",
     "evalue": "[Errno 2] No such file or directory: 'LOCPOT_MoO3.vasp'",
     "output_type": "error",
     "traceback": [
      "\u001b[0;31m---------------------------------------------------------------------------\u001b[0m",
      "\u001b[0;31mFileNotFoundError\u001b[0m                         Traceback (most recent call last)",
      "\u001b[0;32m<ipython-input-8-aba517705ed6>\u001b[0m in \u001b[0;36m<module>\u001b[0;34m\u001b[0m\n\u001b[0;32m----> 1\u001b[0;31m \u001b[0mvasp_pot\u001b[0m\u001b[0;34m,\u001b[0m \u001b[0mNGX\u001b[0m\u001b[0;34m,\u001b[0m \u001b[0mNGY\u001b[0m\u001b[0;34m,\u001b[0m \u001b[0mNGZ\u001b[0m\u001b[0;34m,\u001b[0m \u001b[0mLattice\u001b[0m \u001b[0;34m=\u001b[0m \u001b[0mmd\u001b[0m\u001b[0;34m.\u001b[0m\u001b[0mread_vasp_density\u001b[0m\u001b[0;34m(\u001b[0m\u001b[0minput_file\u001b[0m\u001b[0;34m)\u001b[0m\u001b[0;34m\u001b[0m\u001b[0;34m\u001b[0m\u001b[0m\n\u001b[0m\u001b[1;32m      2\u001b[0m \u001b[0mvector_a\u001b[0m\u001b[0;34m,\u001b[0m\u001b[0mvector_b\u001b[0m\u001b[0;34m,\u001b[0m\u001b[0mvector_c\u001b[0m\u001b[0;34m,\u001b[0m\u001b[0mav\u001b[0m\u001b[0;34m,\u001b[0m\u001b[0mbv\u001b[0m\u001b[0;34m,\u001b[0m\u001b[0mcv\u001b[0m \u001b[0;34m=\u001b[0m \u001b[0mmd\u001b[0m\u001b[0;34m.\u001b[0m\u001b[0mmatrix_2_abc\u001b[0m\u001b[0;34m(\u001b[0m\u001b[0mLattice\u001b[0m\u001b[0;34m)\u001b[0m\u001b[0;34m\u001b[0m\u001b[0;34m\u001b[0m\u001b[0m\n\u001b[1;32m      3\u001b[0m \u001b[0mresolution_x\u001b[0m \u001b[0;34m=\u001b[0m \u001b[0mvector_a\u001b[0m\u001b[0;34m/\u001b[0m\u001b[0mNGX\u001b[0m\u001b[0;34m\u001b[0m\u001b[0;34m\u001b[0m\u001b[0m\n\u001b[1;32m      4\u001b[0m \u001b[0mresolution_y\u001b[0m \u001b[0;34m=\u001b[0m \u001b[0mvector_b\u001b[0m\u001b[0;34m/\u001b[0m\u001b[0mNGY\u001b[0m\u001b[0;34m\u001b[0m\u001b[0;34m\u001b[0m\u001b[0m\n\u001b[1;32m      5\u001b[0m \u001b[0mresolution_z\u001b[0m \u001b[0;34m=\u001b[0m \u001b[0mvector_c\u001b[0m\u001b[0;34m/\u001b[0m\u001b[0mNGZ\u001b[0m\u001b[0;34m\u001b[0m\u001b[0;34m\u001b[0m\u001b[0m\n",
      "\u001b[0;32m~/src/MacroDensity/macrodensity/density_tools.py\u001b[0m in \u001b[0;36mread_vasp_density\u001b[0;34m(FILE, use_pandas, quiet)\u001b[0m\n\u001b[1;32m    297\u001b[0m \u001b[0;34m\u001b[0m\u001b[0m\n\u001b[1;32m    298\u001b[0m     \u001b[0mprint\u001b[0m\u001b[0;34m(\u001b[0m\u001b[0;34m\"Reading header information...\"\u001b[0m\u001b[0;34m)\u001b[0m\u001b[0;34m\u001b[0m\u001b[0;34m\u001b[0m\u001b[0m\n\u001b[0;32m--> 299\u001b[0;31m     \u001b[0;32mwith\u001b[0m \u001b[0mopen\u001b[0m\u001b[0;34m(\u001b[0m\u001b[0mFILE\u001b[0m\u001b[0;34m,\u001b[0m \u001b[0;34m\"r\"\u001b[0m\u001b[0;34m)\u001b[0m \u001b[0;32mas\u001b[0m \u001b[0mf\u001b[0m\u001b[0;34m:\u001b[0m\u001b[0;34m\u001b[0m\u001b[0;34m\u001b[0m\u001b[0m\n\u001b[0m\u001b[1;32m    300\u001b[0m         \u001b[0m_\u001b[0m \u001b[0;34m=\u001b[0m \u001b[0mf\u001b[0m\u001b[0;34m.\u001b[0m\u001b[0mreadline\u001b[0m\u001b[0;34m(\u001b[0m\u001b[0;34m)\u001b[0m\u001b[0;34m\u001b[0m\u001b[0;34m\u001b[0m\u001b[0m\n\u001b[1;32m    301\u001b[0m         \u001b[0mscale_factor\u001b[0m \u001b[0;34m=\u001b[0m \u001b[0mfloat\u001b[0m\u001b[0;34m(\u001b[0m\u001b[0mf\u001b[0m\u001b[0;34m.\u001b[0m\u001b[0mreadline\u001b[0m\u001b[0;34m(\u001b[0m\u001b[0;34m)\u001b[0m\u001b[0;34m)\u001b[0m\u001b[0;34m\u001b[0m\u001b[0;34m\u001b[0m\u001b[0m\n",
      "\u001b[0;31mFileNotFoundError\u001b[0m: [Errno 2] No such file or directory: 'LOCPOT_MoO3.vasp'"
     ]
    }
   ],
   "source": [
    "vasp_pot, NGX, NGY, NGZ, Lattice = md.read_vasp_density(input_file)\n",
    "vector_a,vector_b,vector_c,av,bv,cv = md.matrix_2_abc(Lattice)\n",
    "resolution_x = vector_a/NGX\n",
    "resolution_y = vector_b/NGY\n",
    "resolution_z = vector_c/NGZ\n",
    "grid_pot, electrons = md.density_2_grid(vasp_pot,NGX,NGY,NGZ)"
   ]
  },
  {
   "cell_type": "markdown",
   "metadata": {},
   "source": [
    "### The code below will prompt you to say which axis you want to average along"
   ]
  },
  {
   "cell_type": "code",
   "execution_count": null,
   "metadata": {},
   "outputs": [],
   "source": [
    "## POTENTIAL\n",
    "planar = md.planar_average(grid_pot,NGX,NGY,NGZ)\n",
    "## MACROSCOPIC AVERAGE\n",
    "macro  = md.macroscopic_average(planar,lattice_vector,resolution_z)"
   ]
  },
  {
   "cell_type": "markdown",
   "metadata": {},
   "source": [
    "### Now we can plot the results"
   ]
  },
  {
   "cell_type": "code",
   "execution_count": null,
   "metadata": {
    "scrolled": true
   },
   "outputs": [],
   "source": [
    "fig, ax1 = plt.subplots(1, 1, sharex=True)\n",
    "\n",
    "textsize = 22\n",
    "mpl.rcParams['xtick.labelsize'] = textsize\n",
    "mpl.rcParams['ytick.labelsize'] = textsize\n",
    "mpl.rcParams['figure.figsize'] = (10, 6)\n",
    "\n",
    "ax1.plot(planar,label=\"Planar\",lw=3)\n",
    "ax1.plot(macro,label=\"Macroscopic\",lw=3)\n",
    "\n",
    "ax1.set_xlim(0,len(planar))\n",
    "\n",
    "ax1.set_facecolor((0.95,0.95,0.95))\n",
    "ax1.grid(True)\n",
    "\n",
    "ax1.legend(fontsize=22)\n",
    "plt.show()\n",
    "np.savetxt(output_file,macro)"
   ]
  },
  {
   "cell_type": "markdown",
   "metadata": {},
   "source": [
    "### PROTIP\n",
    "\n",
    "Sometimes the macroscopic average potential in the slab still looks very wavey. In this case it is sometimes required to increase the `lattice_vector` setting from earlier, since there are sometimes numerical effects. "
   ]
  },
  {
   "cell_type": "markdown",
   "metadata": {},
   "source": [
    "### Get the surface dipole ($D_s$)\n",
    "\n",
    "From inspection of the macroscopic average, saved in `planar.dat` we can find that the value of $V$ at each plateau is 6.58 V and -3.93 V. So the step $D_s$ is 10.51 V\n",
    "\n",
    "### The offset\n",
    "\n",
    "Applying the equation from earlier, the IP is \n",
    "\n"
   ]
  },
  {
   "cell_type": "code",
   "execution_count": null,
   "metadata": {},
   "outputs": [],
   "source": [
    "print\"IP: %10.4f eV\"%(10.51 - 1.9483)"
   ]
  }
 ],
 "metadata": {
  "kernelspec": {
   "display_name": "Python 3",
   "language": "python",
   "name": "python3"
  },
  "language_info": {
   "codemirror_mode": {
    "name": "ipython",
    "version": 3
   },
   "file_extension": ".py",
   "mimetype": "text/x-python",
   "name": "python",
   "nbconvert_exporter": "python",
   "pygments_lexer": "ipython3",
   "version": "3.9.2"
  }
 },
 "nbformat": 4,
 "nbformat_minor": 2
}