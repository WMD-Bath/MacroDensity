{
 "cells": [
  {
   "cell_type": "markdown",
   "metadata": {},
   "source": [
    "# Band Alignment Plotting Tutorial\n",
    "\n",
    "In this tutorial we are not actually do any calculations, but representing the data that we obtained from previous calculations. Of course, you can do this with drawing software, like Inkscape or Illustrator. This function, in MacroDensity does many of the things that you would like to do, but pretty automatically.\n",
    "\n",
    "We will attempt to make a mass produced version of the beautiful artisinal band alignment diagram made by [Chris Hendon](https://around.uoregon.edu/content/computational-chemist-join-energy-and-materials-cluster) for our [JACS paper](http://pubs.acs.org/doi/abs/10.1021/ja4110073) on band alignment of porous materials.\n",
    "\n",
    "<img src=\"jacs.jpeg\">\n",
    "\n",
    "## The input data\n",
    "\n",
    "The function requires a list of band edges (EA,IP) for each material, it also requires a list of names of each material, in the same order as the band energy list. We will start by building these lists for the data in the picture."
   ]
  },
  {
   "cell_type": "code",
   "execution_count": 21,
   "metadata": {
    "collapsed": true
   },
   "outputs": [],
   "source": [
    "energies = [[4.4,7.7],[2.7,7.3],[5.1,6.0],[0.9,6.4],[1.3,4.7],[2.9,5.9],[3.8,7.6],[4.8,7.8]]\n",
    "materials = ['ZnO','MOF-5','HKUST-1','ZIF-8','COF-1M','CPO-27-Mg','MIL-125','TiO2']"
   ]
  },
  {
   "cell_type": "markdown",
   "metadata": {},
   "source": [
    "## Set up the environment\n",
    "\n",
    "Now we import the module and function that we need"
   ]
  },
  {
   "cell_type": "code",
   "execution_count": 22,
   "metadata": {
    "collapsed": true
   },
   "outputs": [],
   "source": [
    "import macrodensity.plotting_tools as macro_plot"
   ]
  },
  {
   "cell_type": "markdown",
   "metadata": {},
   "source": [
    "## Run the function"
   ]
  },
  {
   "cell_type": "code",
   "execution_count": 23,
   "metadata": {},
   "outputs": [
    {
     "name": "stdout",
     "output_type": "stream",
     "text": [
      "Figure saved as BandAlignment.eps and BandAlignment.png\n"
     ]
    }
   ],
   "source": [
    "macro_plot.energy_band_alignment_diagram(energies,materials)"
   ]
  },
  {
   "cell_type": "markdown",
   "metadata": {},
   "source": [
    "## Display the figure\n",
    "\n",
    "<img src=\"BandAlignment00.png\">\n",
    "\n",
    "This is not bad, but I would like the bottom to go a little lower, this can be set with an option `limit`."
   ]
  },
  {
   "cell_type": "code",
   "execution_count": 24,
   "metadata": {},
   "outputs": [
    {
     "name": "stdout",
     "output_type": "stream",
     "text": [
      "Figure saved as BandAlignment.eps and BandAlignment.png\n"
     ]
    }
   ],
   "source": [
    "macro_plot.energy_band_alignment_diagram(energies,materials,limit=10)"
   ]
  },
  {
   "cell_type": "markdown",
   "metadata": {},
   "source": [
    "## Display the figure\n",
    "\n",
    "<img src=\"BandAlignment01.png\">\n",
    "\n",
    "Better, although now I'd like to reduce the size of the arrow heads. I can set `arrowhead`."
   ]
  },
  {
   "cell_type": "code",
   "execution_count": 25,
   "metadata": {},
   "outputs": [
    {
     "name": "stdout",
     "output_type": "stream",
     "text": [
      "Figure saved as BandAlignment.eps and BandAlignment.png\n"
     ]
    }
   ],
   "source": [
    "macro_plot.energy_band_alignment_diagram(energies,materials,limit=10,arrowhead=0.1)"
   ]
  },
  {
   "cell_type": "markdown",
   "metadata": {},
   "source": [
    "## Display the figure\n",
    "\n",
    "<img src=\"BandAlignment02.png\">\n",
    "\n",
    "Great, now I want to add some of those nice reference lines like the redox potentials of water.\n",
    "\n",
    "## Adding reference lines\n",
    "\n",
    "We can add refereence lines easily, we construct a list of the reference points, each point in turn is a list, with the name of the reference point and its value. Note, that the value here is referenced against the vacuum level, just like the EA/IP are. So for the water potentials we construct the list below. Then pass with the flag `referecnces` to the plotting function."
   ]
  },
  {
   "cell_type": "code",
   "execution_count": 26,
   "metadata": {},
   "outputs": [
    {
     "name": "stdout",
     "output_type": "stream",
     "text": [
      "Figure saved as BandAlignment.eps and BandAlignment.png\n"
     ]
    }
   ],
   "source": [
    "water_redox = [['E(H$_2$O/O$_2$)',5.75],['E(H$^+$/H$_2$)',4.40]]\n",
    "macro_plot.energy_band_alignment_diagram(energies,materials,limit=10,arrowhead=0.1,references=water_redox)"
   ]
  },
  {
   "cell_type": "markdown",
   "metadata": {},
   "source": [
    "## Display the figure\n",
    "\n",
    "<img src=\"BandAlignment03.png\">\n",
    "\n",
    "Great! Maybe now we want to tweak the colourscheme; switch our plums and custard for something a little bit more sand and sea."
   ]
  },
  {
   "cell_type": "code",
   "execution_count": 27,
   "metadata": {},
   "outputs": [
    {
     "name": "stdout",
     "output_type": "stream",
     "text": [
      "Figure saved as BandAlignment.eps and BandAlignment.png\n"
     ]
    }
   ],
   "source": [
    "macro_plot.energy_band_alignment_diagram(energies,materials,limit=10,arrowhead=0.1, cols=['#e6711e','#1e93e6'],references=water_redox)"
   ]
  },
  {
   "cell_type": "markdown",
   "metadata": {
    "collapsed": true
   },
   "source": [
    "## Display the figure\n",
    "\n",
    "<img src=\"BandAlignment04.png\">\n",
    "\n",
    "Finally, the golden rule of publication figures: Always use a larger font! We can set this with the `textsize` variable.\n",
    "\n"
   ]
  },
  {
   "cell_type": "code",
   "execution_count": 32,
   "metadata": {},
   "outputs": [
    {
     "name": "stdout",
     "output_type": "stream",
     "text": [
      "Figure saved as BandAlignment.eps and BandAlignment.png\n"
     ]
    }
   ],
   "source": [
    "macro_plot.energy_band_alignment_diagram(energies,materials,limit=10,arrowhead=0.1, cols=['#e6711e','#1e93e6'],references=water_redox,textsize=24)"
   ]
  },
  {
   "cell_type": "markdown",
   "metadata": {},
   "source": [
    "## Display the figure\n",
    "\n",
    "<img src=\"BandAlignment05.png\">\n",
    "\n",
    "\n",
    "## Exercise\n",
    "\n",
    "Try to rebuild this diagram, taken from the excellent paper of Oba and co-workers on GW band alignment of semiconductors [\"Band alignment of semiconductors from density-functional theory and many-body perturbation theory\"](https://journals.aps.org/prb/abstract/10.1103/PhysRevB.90.155405).\n",
    "\n",
    "<img src=\"oba.png\">"
   ]
  },
  {
   "cell_type": "code",
   "execution_count": null,
   "metadata": {
    "collapsed": true
   },
   "outputs": [],
   "source": []
  },
  {
   "cell_type": "code",
   "execution_count": null,
   "metadata": {
    "collapsed": true
   },
   "outputs": [],
   "source": []
  }
 ],
 "metadata": {
  "kernelspec": {
   "display_name": "Python 3",
   "language": "python",
   "name": "python3"
  },
  "language_info": {
   "codemirror_mode": {
    "name": "ipython",
    "version": 3
   },
   "file_extension": ".py",
   "mimetype": "text/x-python",
   "name": "python",
   "nbconvert_exporter": "python",
   "pygments_lexer": "ipython3",
   "version": "3.9.2"
  }
 },
 "nbformat": 4,
 "nbformat_minor": 2
}
